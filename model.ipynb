{
 "cells": [
  {
   "cell_type": "markdown",
   "id": "07487fc3",
   "metadata": {},
   "source": [
    "Import the neccessary libraries"
   ]
  },
  {
   "cell_type": "code",
   "execution_count": 67,
   "id": "8b350e35",
   "metadata": {},
   "outputs": [],
   "source": [
    "import pandas as pd\n",
    "import numpy as np\n",
    "import matplotlib.pyplot as plt\n",
    "import os\n",
    "from sklearn.model_selection import train_test_split\n",
    "from sklearn.linear_model import LinearRegression\n",
    "from sklearn.preprocessing import PolynomialFeatures,StandardScaler\n",
    "from sklearn.pipeline import Pipeline\n",
    "from sklearn.metrics import mean_absolute_error,r2_score"
   ]
  },
  {
   "cell_type": "markdown",
   "id": "ec577125",
   "metadata": {},
   "source": [
    "Data Loading"
   ]
  },
  {
   "cell_type": "code",
   "execution_count": 68,
   "id": "0126a3c7",
   "metadata": {},
   "outputs": [
    {
     "name": "stdout",
     "output_type": "stream",
     "text": [
      "Data loaded successfully!\n",
      "First 5 rows\n",
      "         Date Symbol  Adj Close  Close  High  Low  Open  Volume\n",
      "0  2010-01-04    MMM        NaN    NaN   NaN  NaN   NaN     NaN\n",
      "1  2010-01-05    MMM        NaN    NaN   NaN  NaN   NaN     NaN\n",
      "2  2010-01-06    MMM        NaN    NaN   NaN  NaN   NaN     NaN\n",
      "3  2010-01-07    MMM        NaN    NaN   NaN  NaN   NaN     NaN\n",
      "4  2010-01-08    MMM        NaN    NaN   NaN  NaN   NaN     NaN\n",
      "Data Information\n",
      "<class 'pandas.core.frame.DataFrame'>\n",
      "RangeIndex: 1891536 entries, 0 to 1891535\n",
      "Data columns (total 8 columns):\n",
      " #   Column     Dtype  \n",
      "---  ------     -----  \n",
      " 0   Date       object \n",
      " 1   Symbol     object \n",
      " 2   Adj Close  float64\n",
      " 3   Close      float64\n",
      " 4   High       float64\n",
      " 5   Low        float64\n",
      " 6   Open       float64\n",
      " 7   Volume     float64\n",
      "dtypes: float64(6), object(2)\n",
      "memory usage: 115.5+ MB\n",
      "None\n"
     ]
    }
   ],
   "source": [
    "# This block of code handles loading the dataset from a CSV file and preparing it for the models\n",
    "file_path = \"sp500_stocks.csv\"\n",
    "\n",
    "# Check if the file exists before attempting to read it\n",
    "if not os.path.exists(file_path):\n",
    "    print(f\"Error: The file '{file_path} was not found\")\n",
    "    print(\"Please make sure the file is in the same directory as the script\")\n",
    "else:\n",
    "    try:\n",
    "        # Read the CSV file into a Pandas DataFrame\n",
    "        df = pd.read_csv(\"sp500_stocks.csv\")\n",
    "        print(\"Data loaded successfully!\")\n",
    "    except ValueError:\n",
    "        print(\"An Error Occurred\")\n",
    "\n",
    "print(\"First 5 rows\")\n",
    "print(df.head())\n",
    "print(\"Data Information\")\n",
    "print(df.info())"
   ]
  },
  {
   "cell_type": "markdown",
   "id": "5b3519b0",
   "metadata": {},
   "source": [
    "Data Preprocessing"
   ]
  },
  {
   "cell_type": "code",
   "execution_count": 69,
   "id": "5d072e0e",
   "metadata": {},
   "outputs": [
    {
     "name": "stdout",
     "output_type": "stream",
     "text": [
      "Missing Values\n",
      "Date               0\n",
      "Symbol             0\n",
      "Adj Close    1273705\n",
      "Close        1273705\n",
      "High         1273705\n",
      "Low          1273705\n",
      "Open         1273705\n",
      "Volume       1273705\n",
      "dtype: int64\n",
      "Duplicated Values\n",
      "0\n",
      "Missing Values\n",
      "Date         0\n",
      "Symbol       0\n",
      "Adj Close    0\n",
      "Close        0\n",
      "High         0\n",
      "Low          0\n",
      "Open         0\n",
      "Volume       0\n",
      "dtype: int64\n",
      "<class 'pandas.core.frame.DataFrame'>\n",
      "Index: 617831 entries, 3768 to 1876463\n",
      "Data columns (total 8 columns):\n",
      " #   Column     Non-Null Count   Dtype         \n",
      "---  ------     --------------   -----         \n",
      " 0   Date       617831 non-null  datetime64[ns]\n",
      " 1   Symbol     617831 non-null  object        \n",
      " 2   Adj Close  617831 non-null  float64       \n",
      " 3   Close      617831 non-null  float64       \n",
      " 4   High       617831 non-null  float64       \n",
      " 5   Low        617831 non-null  float64       \n",
      " 6   Open       617831 non-null  float64       \n",
      " 7   Volume     617831 non-null  float64       \n",
      "dtypes: datetime64[ns](1), float64(6), object(1)\n",
      "memory usage: 42.4+ MB\n",
      "None\n",
      "<class 'pandas.core.frame.DataFrame'>\n",
      "Index: 617831 entries, 3768 to 1876463\n",
      "Data columns (total 8 columns):\n",
      " #   Column     Non-Null Count   Dtype         \n",
      "---  ------     --------------   -----         \n",
      " 0   date       617831 non-null  datetime64[ns]\n",
      " 1   symbol     617831 non-null  object        \n",
      " 2   adj_close  617831 non-null  float64       \n",
      " 3   close      617831 non-null  float64       \n",
      " 4   high       617831 non-null  float64       \n",
      " 5   low        617831 non-null  float64       \n",
      " 6   open       617831 non-null  float64       \n",
      " 7   volume     617831 non-null  float64       \n",
      "dtypes: datetime64[ns](1), float64(6), object(1)\n",
      "memory usage: 42.4+ MB\n",
      "None\n"
     ]
    }
   ],
   "source": [
    "# Check for missing values\n",
    "df_missing = df.isnull().sum()\n",
    "print(\"Missing Values\")\n",
    "print(df_missing)\n",
    "\n",
    "# Check for duplicated rows\n",
    "df_duplicated = df.duplicated().sum()\n",
    "print(\"Duplicated Values\")\n",
    "print(df_duplicated)\n",
    "\n",
    "# Drop rows with missing values\n",
    "df.dropna(inplace=True)\n",
    "\n",
    "# Check for Missing Values\n",
    "df_missing = df.isnull().sum()\n",
    "print(\"Missing Values\")\n",
    "print(df_missing)\n",
    "\n",
    "# Convert the \"Date\" column to datetime objects\n",
    "df[\"Date\"] = pd.to_datetime(df[\"Date\"])\n",
    "print(df.info())\n",
    "#Symbol\tAdj Close\tClose\tHigh\tLow\tOpen\tVolume\n",
    "\n",
    "# Rename the columns for Clarity\n",
    "df.rename(columns={\n",
    "    \"Date\": \"date\",\n",
    "    \"Symbol\": \"symbol\",\n",
    "    \"Adj Close\": \"adj_close\",\n",
    "    \"Close\": \"close\",\n",
    "    \"High\": \"high\",\n",
    "    \"Low\": \"low\",\n",
    "    \"Open\": \"open\",\n",
    "    \"Volume\": \"volume\"\n",
    "}, inplace=True)\n",
    "print(df.info())"
   ]
  },
  {
   "cell_type": "markdown",
   "id": "b364b8f7",
   "metadata": {},
   "source": [
    "Features Engineering"
   ]
  },
  {
   "cell_type": "code",
   "execution_count": 70,
   "id": "4a975d2c",
   "metadata": {},
   "outputs": [],
   "source": [
    "# We will focus on a single company for this prediction task. Let's use Apple (AAPL)\n",
    "company_symbol = \"AAPL\"\n",
    "company_data = df[df[\"symbol\"] == company_symbol].copy()\n",
    "\n",
    "# Drop rows with any missing values, which are common in financial data\n",
    "# We are only interested in the features needed for the Prediction\n",
    "features = [\"open\",\"high\",\"low\",\"volume\",\"close\"]\n",
    "company_data.dropna(subset=features,inplace=True)\n",
    "\n",
    "# Create the target variable: the next day's closing price. We do this by shifting the \"Close\" column up by one row\n",
    "# The last row will now have a NaN, so we drop it\n",
    "company_data[\"next_day_close\"] = company_data[\"close\"].shift(-1)\n",
    "#company_data.drop(company_symbol.tail(1).index,inplace=True)"
   ]
  },
  {
   "cell_type": "markdown",
   "id": "e2054777",
   "metadata": {},
   "source": [
    "Data Spiltting"
   ]
  }
 ],
 "metadata": {
  "kernelspec": {
   "display_name": "Python 3",
   "language": "python",
   "name": "python3"
  },
  "language_info": {
   "codemirror_mode": {
    "name": "ipython",
    "version": 3
   },
   "file_extension": ".py",
   "mimetype": "text/x-python",
   "name": "python",
   "nbconvert_exporter": "python",
   "pygments_lexer": "ipython3",
   "version": "3.13.3"
  }
 },
 "nbformat": 4,
 "nbformat_minor": 5
}
